{
 "cells": [
  {
   "cell_type": "code",
   "execution_count": 8,
   "id": "7f27e78e-8608-4041-ace6-632653ac5b0f",
   "metadata": {
    "editable": true,
    "slideshow": {
     "slide_type": ""
    },
    "tags": []
   },
   "outputs": [],
   "source": [
    "import pandas as pd\n",
    "import numpy as np"
   ]
  },
  {
   "cell_type": "code",
   "execution_count": 49,
   "id": "8737d423-2aa5-45f0-8387-740bcbd88f2f",
   "metadata": {},
   "outputs": [
    {
     "name": "stdout",
     "output_type": "stream",
     "text": [
      "   CustomerID  Gender  Age  Annual Income (k$)  Spending Score (1-100)\n",
      "0           1    Male   19                  15                      39\n",
      "1           2    Male   21                  15                      81\n",
      "2           3  Female   20                  16                       6\n",
      "3           4  Female   23                  16                      77\n",
      "4           5  Female   31                  17                      40\n",
      "       CustomerID         Age  Annual Income (k$)  Spending Score (1-100)\n",
      "count  200.000000  200.000000          200.000000              200.000000\n",
      "mean   100.500000   38.850000           60.560000               50.200000\n",
      "std     57.879185   13.969007           26.264721               25.823522\n",
      "min      1.000000   18.000000           15.000000                1.000000\n",
      "25%     50.750000   28.750000           41.500000               34.750000\n",
      "50%    100.500000   36.000000           61.500000               50.000000\n",
      "75%    150.250000   49.000000           78.000000               73.000000\n",
      "max    200.000000   70.000000          137.000000               99.000000\n"
     ]
    }
   ],
   "source": [
    "# Exploring the data\n",
    "\n",
    "df = pd.read_csv(\"Mall Customer raw data.csv\") \n",
    "print (df.head())\n",
    "print (df.describe())\n"
   ]
  },
  {
   "cell_type": "code",
   "execution_count": 41,
   "id": "28e2fa30-406f-42a0-a3f9-cbcea6534d79",
   "metadata": {},
   "outputs": [
    {
     "name": "stdout",
     "output_type": "stream",
     "text": [
      "<class 'pandas.core.frame.DataFrame'>\n",
      "RangeIndex: 200 entries, 0 to 199\n",
      "Data columns (total 5 columns):\n",
      " #   Column                  Non-Null Count  Dtype \n",
      "---  ------                  --------------  ----- \n",
      " 0   CustomerID              200 non-null    int64 \n",
      " 1   Gender                  200 non-null    object\n",
      " 2   Age                     200 non-null    int64 \n",
      " 3   Annual Income (k$)      200 non-null    int64 \n",
      " 4   Spending Score (1-100)  200 non-null    int64 \n",
      "dtypes: int64(4), object(1)\n",
      "memory usage: 7.9+ KB\n",
      "None\n"
     ]
    }
   ],
   "source": [
    "df.shape\n",
    "df.dtypes\n",
    "df.isnull() # or we can use this - df.isna()\n",
    "\n",
    "# we can use above three or the lower one\n",
    "print (df.info())  # checking three things like shape of dataset , datatype of colmns and non null counts ."
   ]
  },
  {
   "cell_type": "code",
   "execution_count": 51,
   "id": "1d120bd7-69ab-42a9-81be-c36d51be5bba",
   "metadata": {},
   "outputs": [
    {
     "data": {
      "text/plain": [
       "CustomerID                200\n",
       "Gender                      2\n",
       "Age                        51\n",
       "Annual Income (k$)         64\n",
       "Spending Score (1-100)     84\n",
       "dtype: int64"
      ]
     },
     "execution_count": 51,
     "metadata": {},
     "output_type": "execute_result"
    }
   ],
   "source": [
    "df.nunique() # use this for detailed analysis -  df.value_counts()\n",
    "# check for unique values ."
   ]
  },
  {
   "cell_type": "markdown",
   "id": "27344e38-dd36-4506-bc6f-da6faea85153",
   "metadata": {},
   "source": [
    "pre processing starts here "
   ]
  },
  {
   "cell_type": "code",
   "execution_count": 65,
   "id": "adcc3422-1182-4b25-a266-f783f3bcaed5",
   "metadata": {},
   "outputs": [
    {
     "name": "stdout",
     "output_type": "stream",
     "text": [
      "<class 'pandas.core.frame.DataFrame'>\n",
      "RangeIndex: 200 entries, 0 to 199\n",
      "Data columns (total 5 columns):\n",
      " #   Column               Non-Null Count  Dtype \n",
      "---  ------               --------------  ----- \n",
      " 0   customerid           200 non-null    int64 \n",
      " 1   gender               200 non-null    object\n",
      " 2   age                  200 non-null    int64 \n",
      " 3   annual_income_k      200 non-null    int64 \n",
      " 4   spending_score_1100  200 non-null    int64 \n",
      "dtypes: int64(4), object(1)\n",
      "memory usage: 7.9+ KB\n"
     ]
    },
    {
     "data": {
      "text/plain": [
       "(   customerid  gender  age  annual_income_k  spending_score_1100\n",
       " 0           1    male   19               15                   39\n",
       " 1           2    male   21               15                   81\n",
       " 2           3  female   20               16                    6\n",
       " 3           4  female   23               16                   77\n",
       " 4           5  female   31               17                   40,\n",
       " None,\n",
       " 0,\n",
       " customerid              int64\n",
       " gender                 object\n",
       " age                     int64\n",
       " annual_income_k         int64\n",
       " spending_score_1100     int64\n",
       " dtype: object,\n",
       " {'customerid': 0, 'age': 0, 'annual_income_k': 2, 'spending_score_1100': 0})"
      ]
     },
     "execution_count": 65,
     "metadata": {},
     "output_type": "execute_result"
    }
   ],
   "source": [
    "# Reload the dataset\n",
    "df_raw = pd.read_csv(\"Mall Customer raw data.csv\")\n",
    "\n",
    "# Step 1: Make a copy of the original dataset\n",
    "df_clean = df_raw.copy()\n",
    "\n",
    "# Step 2: Rename columns to snake_case and remove special characters\n",
    "df_clean.columns = (\n",
    "    df_clean.columns\n",
    "    .str.strip()\n",
    "    .str.lower()\n",
    "    .str.replace(' ', '_')\n",
    "    .str.replace(r'[^\\w\\s]', '', regex=True)\n",
    ")\n",
    "\n",
    "# Step 3: Check for duplicates\n",
    "duplicates = df_clean.duplicated().sum()\n",
    "\n",
    "# Step 4: Standardize gender values (title-case to lowercase)\n",
    "df_clean['gender'] = df_clean['gender'].str.strip().str.lower()\n",
    "\n",
    "# Step 5: Confirm data types\n",
    "data_types = df_clean.dtypes\n",
    "\n",
    "# Step 6: Check for outliers using simple IQR method\n",
    "def detect_outliers_iqr(series):\n",
    "    Q1 = series.quantile(0.25)\n",
    "    Q3 = series.quantile(0.75)\n",
    "    IQR = Q3 - Q1\n",
    "    lower_bound = Q1 - 1.5 * IQR\n",
    "    upper_bound = Q3 + 1.5 * IQR\n",
    "    return ((series < lower_bound) | (series > upper_bound)).sum()\n",
    "\n",
    "outliers = {\n",
    "    col: detect_outliers_iqr(df_clean[col])\n",
    "    for col in df_clean.select_dtypes(include=['int64', 'float64']).columns\n",
    "}\n",
    "\n",
    "# Summary preview\n",
    "df_clean.head(), df_clean.info(), duplicates, data_types, outliers\n"
   ]
  },
  {
   "cell_type": "code",
   "execution_count": null,
   "id": "2a5aed1e-2495-41c4-919b-ac668ab11cad",
   "metadata": {},
   "outputs": [],
   "source": []
  },
  {
   "cell_type": "code",
   "execution_count": null,
   "id": "5891a8e4-699b-496b-8465-7cf6941aae64",
   "metadata": {},
   "outputs": [],
   "source": []
  },
  {
   "cell_type": "code",
   "execution_count": null,
   "id": "3965c249-46e2-4f23-ac50-6620d5f2f4ed",
   "metadata": {},
   "outputs": [],
   "source": []
  },
  {
   "cell_type": "code",
   "execution_count": null,
   "id": "ea441ea8-22f4-427c-96d1-55c1f804adca",
   "metadata": {},
   "outputs": [],
   "source": []
  },
  {
   "cell_type": "code",
   "execution_count": null,
   "id": "513fce29-e461-402c-9bf1-e9eb51122244",
   "metadata": {},
   "outputs": [],
   "source": []
  },
  {
   "cell_type": "code",
   "execution_count": null,
   "id": "712408aa-ac03-4ad8-b5f2-566e55e0f1ee",
   "metadata": {},
   "outputs": [],
   "source": []
  },
  {
   "cell_type": "code",
   "execution_count": null,
   "id": "135d79ca-7a3d-4be0-95ce-02770c4cf81a",
   "metadata": {},
   "outputs": [],
   "source": []
  },
  {
   "cell_type": "code",
   "execution_count": null,
   "id": "8ecb3f16-32b6-4b08-902f-b9fe2a7e0937",
   "metadata": {},
   "outputs": [],
   "source": []
  },
  {
   "cell_type": "code",
   "execution_count": null,
   "id": "e77c9e5d-ce32-4092-8466-3a506f21f012",
   "metadata": {},
   "outputs": [],
   "source": []
  }
 ],
 "metadata": {
  "kernelspec": {
   "display_name": "Python 3 (ipykernel)",
   "language": "python",
   "name": "python3"
  },
  "language_info": {
   "codemirror_mode": {
    "name": "ipython",
    "version": 3
   },
   "file_extension": ".py",
   "mimetype": "text/x-python",
   "name": "python",
   "nbconvert_exporter": "python",
   "pygments_lexer": "ipython3",
   "version": "3.11.7"
  }
 },
 "nbformat": 4,
 "nbformat_minor": 5
}
